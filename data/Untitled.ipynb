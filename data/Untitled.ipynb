{
 "cells": [
  {
   "cell_type": "code",
   "execution_count": 2,
   "id": "b141514e",
   "metadata": {},
   "outputs": [],
   "source": [
    "import numpy as np\n",
    "import pandas as pd"
   ]
  },
  {
   "cell_type": "code",
   "execution_count": 37,
   "id": "80ef8ac0",
   "metadata": {},
   "outputs": [
    {
     "data": {
      "text/plain": [
       "0        D://360 google/dashcam_illumination/train/2qgT...\n",
       "1        D://360 google/dashcam_illumination/train/2qgT...\n",
       "2        D://360 google/dashcam_illumination/train/2QS7...\n",
       "3        D://360 google/dashcam_illumination/train/2QS7...\n",
       "4        D://360 google/dashcam_illumination/train/2rYX...\n",
       "                               ...                        \n",
       "16573    D://360 google/dashcam_illumination/train/Gv9B...\n",
       "16574    D://360 google/dashcam_illumination/train/GVc4...\n",
       "16575    D://360 google/dashcam_illumination/train/GVc4...\n",
       "16576    D://360 google/dashcam_illumination/train/GVDn...\n",
       "16577    D://360 google/dashcam_illumination/train/GVDn...\n",
       "Name: filepath, Length: 16578, dtype: object"
      ]
     },
     "execution_count": 37,
     "metadata": {},
     "output_type": "execute_result"
    }
   ],
   "source": [
    "df = pd.read_csv('train_list.csv')\n",
    "df['filepath']"
   ]
  },
  {
   "cell_type": "code",
   "execution_count": 38,
   "id": "f3ff39e3",
   "metadata": {},
   "outputs": [
    {
     "data": {
      "text/plain": [
       "'D://360 google/dashcam_illumination/train/2qgTnlk0ash96PSG7gdgZQ_F.png'"
      ]
     },
     "execution_count": 38,
     "metadata": {},
     "output_type": "execute_result"
    }
   ],
   "source": [
    "df['filepath'][0]"
   ]
  },
  {
   "cell_type": "code",
   "execution_count": 40,
   "id": "82ed9e60",
   "metadata": {},
   "outputs": [
    {
     "data": {
      "text/plain": [
       "'dashcam_illumination/train/2qgTnlk0ash96PSG7gdgZQ_F.png'"
      ]
     },
     "execution_count": 40,
     "metadata": {},
     "output_type": "execute_result"
    }
   ],
   "source": [
    "df['filepath'][0][15:]"
   ]
  },
  {
   "cell_type": "code",
   "execution_count": 41,
   "id": "ac1d6ab5",
   "metadata": {
    "scrolled": true
   },
   "outputs": [
    {
     "name": "stderr",
     "output_type": "stream",
     "text": [
      "/home/ubuntu/anaconda3/lib/python3.6/site-packages/ipykernel_launcher.py:2: SettingWithCopyWarning: \n",
      "A value is trying to be set on a copy of a slice from a DataFrame\n",
      "\n",
      "See the caveats in the documentation: https://pandas.pydata.org/pandas-docs/stable/user_guide/indexing.html#returning-a-view-versus-a-copy\n",
      "  \n"
     ]
    }
   ],
   "source": [
    "for i in range(len(df)):\n",
    "    df['filepath'][i] = df['filepath'][i][15:]"
   ]
  },
  {
   "cell_type": "code",
   "execution_count": 42,
   "id": "c62683e9",
   "metadata": {},
   "outputs": [
    {
     "data": {
      "text/html": [
       "<div>\n",
       "<style scoped>\n",
       "    .dataframe tbody tr th:only-of-type {\n",
       "        vertical-align: middle;\n",
       "    }\n",
       "\n",
       "    .dataframe tbody tr th {\n",
       "        vertical-align: top;\n",
       "    }\n",
       "\n",
       "    .dataframe thead th {\n",
       "        text-align: right;\n",
       "    }\n",
       "</style>\n",
       "<table border=\"1\" class=\"dataframe\">\n",
       "  <thead>\n",
       "    <tr style=\"text-align: right;\">\n",
       "      <th></th>\n",
       "      <th>filepath</th>\n",
       "      <th>theta</th>\n",
       "      <th>phi</th>\n",
       "      <th>turbidity</th>\n",
       "      <th>exposure</th>\n",
       "      <th>elevation</th>\n",
       "      <th>fov</th>\n",
       "    </tr>\n",
       "  </thead>\n",
       "  <tbody>\n",
       "    <tr>\n",
       "      <th>0</th>\n",
       "      <td>dashcam_illumination/train/2qgTnlk0ash96PSG7gd...</td>\n",
       "      <td>3.452261</td>\n",
       "      <td>47.697769</td>\n",
       "      <td>3.5</td>\n",
       "      <td>0.042352</td>\n",
       "      <td>-6.32</td>\n",
       "      <td>61.32</td>\n",
       "    </tr>\n",
       "    <tr>\n",
       "      <th>1</th>\n",
       "      <td>dashcam_illumination/train/2qgTnlk0ash96PSG7gd...</td>\n",
       "      <td>-176.547739</td>\n",
       "      <td>45.917769</td>\n",
       "      <td>3.5</td>\n",
       "      <td>0.042352</td>\n",
       "      <td>-8.10</td>\n",
       "      <td>98.62</td>\n",
       "    </tr>\n",
       "    <tr>\n",
       "      <th>2</th>\n",
       "      <td>dashcam_illumination/train/2QS7rfv0wHXsRA9sVT1...</td>\n",
       "      <td>20.742977</td>\n",
       "      <td>77.579208</td>\n",
       "      <td>4.5</td>\n",
       "      <td>0.027634</td>\n",
       "      <td>-4.58</td>\n",
       "      <td>94.11</td>\n",
       "    </tr>\n",
       "    <tr>\n",
       "      <th>3</th>\n",
       "      <td>dashcam_illumination/train/2QS7rfv0wHXsRA9sVT1...</td>\n",
       "      <td>-159.257023</td>\n",
       "      <td>81.289208</td>\n",
       "      <td>4.5</td>\n",
       "      <td>0.027634</td>\n",
       "      <td>-0.87</td>\n",
       "      <td>67.37</td>\n",
       "    </tr>\n",
       "    <tr>\n",
       "      <th>4</th>\n",
       "      <td>dashcam_illumination/train/2rYXHV7UlFOk_PDArAG...</td>\n",
       "      <td>-107.296279</td>\n",
       "      <td>86.085367</td>\n",
       "      <td>3.5</td>\n",
       "      <td>0.035524</td>\n",
       "      <td>2.11</td>\n",
       "      <td>60.27</td>\n",
       "    </tr>\n",
       "    <tr>\n",
       "      <th>...</th>\n",
       "      <td>...</td>\n",
       "      <td>...</td>\n",
       "      <td>...</td>\n",
       "      <td>...</td>\n",
       "      <td>...</td>\n",
       "      <td>...</td>\n",
       "      <td>...</td>\n",
       "    </tr>\n",
       "    <tr>\n",
       "      <th>16573</th>\n",
       "      <td>dashcam_illumination/train/Gv9BpAYRWaaaFJfHhjQ...</td>\n",
       "      <td>35.694724</td>\n",
       "      <td>37.099028</td>\n",
       "      <td>2.5</td>\n",
       "      <td>0.031911</td>\n",
       "      <td>4.34</td>\n",
       "      <td>68.81</td>\n",
       "    </tr>\n",
       "    <tr>\n",
       "      <th>16574</th>\n",
       "      <td>dashcam_illumination/train/GVc4BE0AFG20x4wRtTV...</td>\n",
       "      <td>-103.450911</td>\n",
       "      <td>80.280789</td>\n",
       "      <td>3.0</td>\n",
       "      <td>0.047263</td>\n",
       "      <td>6.24</td>\n",
       "      <td>60.95</td>\n",
       "    </tr>\n",
       "    <tr>\n",
       "      <th>16575</th>\n",
       "      <td>dashcam_illumination/train/GVc4BE0AFG20x4wRtTV...</td>\n",
       "      <td>76.549089</td>\n",
       "      <td>69.820789</td>\n",
       "      <td>3.0</td>\n",
       "      <td>0.047263</td>\n",
       "      <td>-4.22</td>\n",
       "      <td>63.84</td>\n",
       "    </tr>\n",
       "    <tr>\n",
       "      <th>16576</th>\n",
       "      <td>dashcam_illumination/train/GVDnZAyebzJjvvyjhuJ...</td>\n",
       "      <td>179.405562</td>\n",
       "      <td>72.552575</td>\n",
       "      <td>3.5</td>\n",
       "      <td>0.044933</td>\n",
       "      <td>0.74</td>\n",
       "      <td>92.82</td>\n",
       "    </tr>\n",
       "    <tr>\n",
       "      <th>16577</th>\n",
       "      <td>dashcam_illumination/train/GVDnZAyebzJjvvyjhuJ...</td>\n",
       "      <td>-0.594438</td>\n",
       "      <td>68.552575</td>\n",
       "      <td>3.5</td>\n",
       "      <td>0.044933</td>\n",
       "      <td>-3.26</td>\n",
       "      <td>94.57</td>\n",
       "    </tr>\n",
       "  </tbody>\n",
       "</table>\n",
       "<p>16578 rows × 7 columns</p>\n",
       "</div>"
      ],
      "text/plain": [
       "                                                filepath       theta  \\\n",
       "0      dashcam_illumination/train/2qgTnlk0ash96PSG7gd...    3.452261   \n",
       "1      dashcam_illumination/train/2qgTnlk0ash96PSG7gd... -176.547739   \n",
       "2      dashcam_illumination/train/2QS7rfv0wHXsRA9sVT1...   20.742977   \n",
       "3      dashcam_illumination/train/2QS7rfv0wHXsRA9sVT1... -159.257023   \n",
       "4      dashcam_illumination/train/2rYXHV7UlFOk_PDArAG... -107.296279   \n",
       "...                                                  ...         ...   \n",
       "16573  dashcam_illumination/train/Gv9BpAYRWaaaFJfHhjQ...   35.694724   \n",
       "16574  dashcam_illumination/train/GVc4BE0AFG20x4wRtTV... -103.450911   \n",
       "16575  dashcam_illumination/train/GVc4BE0AFG20x4wRtTV...   76.549089   \n",
       "16576  dashcam_illumination/train/GVDnZAyebzJjvvyjhuJ...  179.405562   \n",
       "16577  dashcam_illumination/train/GVDnZAyebzJjvvyjhuJ...   -0.594438   \n",
       "\n",
       "             phi  turbidity  exposure  elevation    fov  \n",
       "0      47.697769        3.5  0.042352      -6.32  61.32  \n",
       "1      45.917769        3.5  0.042352      -8.10  98.62  \n",
       "2      77.579208        4.5  0.027634      -4.58  94.11  \n",
       "3      81.289208        4.5  0.027634      -0.87  67.37  \n",
       "4      86.085367        3.5  0.035524       2.11  60.27  \n",
       "...          ...        ...       ...        ...    ...  \n",
       "16573  37.099028        2.5  0.031911       4.34  68.81  \n",
       "16574  80.280789        3.0  0.047263       6.24  60.95  \n",
       "16575  69.820789        3.0  0.047263      -4.22  63.84  \n",
       "16576  72.552575        3.5  0.044933       0.74  92.82  \n",
       "16577  68.552575        3.5  0.044933      -3.26  94.57  \n",
       "\n",
       "[16578 rows x 7 columns]"
      ]
     },
     "execution_count": 42,
     "metadata": {},
     "output_type": "execute_result"
    }
   ],
   "source": [
    "df"
   ]
  },
  {
   "cell_type": "code",
   "execution_count": 43,
   "id": "50ead0d0",
   "metadata": {},
   "outputs": [],
   "source": [
    "df.to_csv(\"train.csv\")"
   ]
  },
  {
   "cell_type": "code",
   "execution_count": null,
   "id": "d66a3e22",
   "metadata": {},
   "outputs": [],
   "source": []
  }
 ],
 "metadata": {
  "kernelspec": {
   "display_name": "Python 3",
   "language": "python",
   "name": "python3"
  },
  "language_info": {
   "codemirror_mode": {
    "name": "ipython",
    "version": 3
   },
   "file_extension": ".py",
   "mimetype": "text/x-python",
   "name": "python",
   "nbconvert_exporter": "python",
   "pygments_lexer": "ipython3",
   "version": "3.6.10"
  }
 },
 "nbformat": 4,
 "nbformat_minor": 5
}
